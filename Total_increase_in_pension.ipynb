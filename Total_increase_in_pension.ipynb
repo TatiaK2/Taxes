{
 "cells": [
  {
   "cell_type": "code",
   "execution_count": 2,
   "id": "0cf5e1cd",
   "metadata": {},
   "outputs": [],
   "source": [
    "import pandas as pd"
   ]
  },
  {
   "cell_type": "code",
   "execution_count": null,
   "id": "33a96749",
   "metadata": {},
   "outputs": [],
   "source": [
    "#Assumptions:\n",
    "# 2 funds - adjust if more funds bought in the future\n",
    "# monthly entries that contain fund name, date, units bought, units sold, and price per unit\n",
    "# data covers the whole of the previous year, up until the point where the current_values_file gives data on the current number of units (which may be in the following year)\n"
   ]
  },
  {
   "cell_type": "code",
   "execution_count": 15,
   "id": "5adea615",
   "metadata": {},
   "outputs": [],
   "source": [
    "year_begin = '2021-01-01'\n",
    "year_end = '2021-12-31'"
   ]
  },
  {
   "cell_type": "code",
   "execution_count": 41,
   "id": "7901b6d3",
   "metadata": {},
   "outputs": [],
   "source": [
    "transactions = pd.read_csv(\"data/legal_and_general_transactions.csv\")\n",
    "current_values_file = 'data/fund_units_legal_and_general_march2022.txt'"
   ]
  },
  {
   "cell_type": "code",
   "execution_count": 8,
   "id": "e5fe8994",
   "metadata": {},
   "outputs": [
    {
     "data": {
      "text/html": [
       "<div>\n",
       "<style scoped>\n",
       "    .dataframe tbody tr th:only-of-type {\n",
       "        vertical-align: middle;\n",
       "    }\n",
       "\n",
       "    .dataframe tbody tr th {\n",
       "        vertical-align: top;\n",
       "    }\n",
       "\n",
       "    .dataframe thead th {\n",
       "        text-align: right;\n",
       "    }\n",
       "</style>\n",
       "<table border=\"1\" class=\"dataframe\">\n",
       "  <thead>\n",
       "    <tr style=\"text-align: right;\">\n",
       "      <th></th>\n",
       "      <th>Date</th>\n",
       "      <th>Transaction description</th>\n",
       "      <th>Payments in</th>\n",
       "      <th>Payments out</th>\n",
       "      <th>Unit Investments</th>\n",
       "      <th>Fund name</th>\n",
       "      <th>Units bought</th>\n",
       "      <th>Units sold</th>\n",
       "      <th>Price per unit (p)</th>\n",
       "    </tr>\n",
       "  </thead>\n",
       "  <tbody>\n",
       "    <tr>\n",
       "      <th>0</th>\n",
       "      <td>2022-03-02</td>\n",
       "      <td>Your Employer's regular contribution</td>\n",
       "      <td>731.53</td>\n",
       "      <td>0.00</td>\n",
       "      <td>731.53</td>\n",
       "      <td>L&amp;G PMC 2045 - 2050 Target Date Fund 3</td>\n",
       "      <td>27.714</td>\n",
       "      <td>0.000</td>\n",
       "      <td>1319.78</td>\n",
       "    </tr>\n",
       "    <tr>\n",
       "      <th>1</th>\n",
       "      <td>2022-03-02</td>\n",
       "      <td>NaN</td>\n",
       "      <td>NaN</td>\n",
       "      <td>NaN</td>\n",
       "      <td>NaN</td>\n",
       "      <td>L&amp;G PMC World (Ex-UK) Equity Index 3</td>\n",
       "      <td>59.452</td>\n",
       "      <td>0.000</td>\n",
       "      <td>615.23</td>\n",
       "    </tr>\n",
       "    <tr>\n",
       "      <th>2</th>\n",
       "      <td>2022-03-01</td>\n",
       "      <td>Management Charge</td>\n",
       "      <td>0.00</td>\n",
       "      <td>5.06</td>\n",
       "      <td>-5.06</td>\n",
       "      <td>L&amp;G PMC 2045 - 2050 Target Date Fund 3</td>\n",
       "      <td>0.000</td>\n",
       "      <td>0.180</td>\n",
       "      <td>1321.17</td>\n",
       "    </tr>\n",
       "    <tr>\n",
       "      <th>3</th>\n",
       "      <td>2022-03-01</td>\n",
       "      <td>NaN</td>\n",
       "      <td>NaN</td>\n",
       "      <td>NaN</td>\n",
       "      <td>NaN</td>\n",
       "      <td>L&amp;G PMC World (Ex-UK) Equity Index 3</td>\n",
       "      <td>0.000</td>\n",
       "      <td>0.432</td>\n",
       "      <td>620.29</td>\n",
       "    </tr>\n",
       "    <tr>\n",
       "      <th>4</th>\n",
       "      <td>2022-02-01</td>\n",
       "      <td>Your Employer's regular contribution</td>\n",
       "      <td>1585.00</td>\n",
       "      <td>0.00</td>\n",
       "      <td>1585.00</td>\n",
       "      <td>L&amp;G PMC 2045 - 2050 Target Date Fund 3</td>\n",
       "      <td>58.578</td>\n",
       "      <td>0.000</td>\n",
       "      <td>1352.90</td>\n",
       "    </tr>\n",
       "  </tbody>\n",
       "</table>\n",
       "</div>"
      ],
      "text/plain": [
       "         Date               Transaction description  Payments in  \\\n",
       "0  2022-03-02  Your Employer's regular contribution       731.53   \n",
       "1  2022-03-02                                   NaN          NaN   \n",
       "2  2022-03-01                     Management Charge         0.00   \n",
       "3  2022-03-01                                   NaN          NaN   \n",
       "4  2022-02-01  Your Employer's regular contribution      1585.00   \n",
       "\n",
       "   Payments out  Unit Investments                               Fund name  \\\n",
       "0          0.00            731.53  L&G PMC 2045 - 2050 Target Date Fund 3   \n",
       "1           NaN               NaN    L&G PMC World (Ex-UK) Equity Index 3   \n",
       "2          5.06             -5.06  L&G PMC 2045 - 2050 Target Date Fund 3   \n",
       "3           NaN               NaN    L&G PMC World (Ex-UK) Equity Index 3   \n",
       "4          0.00           1585.00  L&G PMC 2045 - 2050 Target Date Fund 3   \n",
       "\n",
       "   Units bought  Units sold  Price per unit (p)  \n",
       "0        27.714       0.000             1319.78  \n",
       "1        59.452       0.000              615.23  \n",
       "2         0.000       0.180             1321.17  \n",
       "3         0.000       0.432              620.29  \n",
       "4        58.578       0.000             1352.90  "
      ]
     },
     "execution_count": 8,
     "metadata": {},
     "output_type": "execute_result"
    }
   ],
   "source": [
    "transactions.head()"
   ]
  },
  {
   "cell_type": "code",
   "execution_count": 20,
   "id": "e4ce7f6a",
   "metadata": {},
   "outputs": [],
   "source": [
    "df = transactions[['Fund name', 'Units bought', 'Units sold', 'Price per unit (p)', 'Date']]"
   ]
  },
  {
   "cell_type": "code",
   "execution_count": 33,
   "id": "bbb2d757",
   "metadata": {},
   "outputs": [],
   "source": [
    "df = df.dropna(axis=0, how='any')"
   ]
  },
  {
   "cell_type": "code",
   "execution_count": 36,
   "id": "9e35db45",
   "metadata": {},
   "outputs": [
    {
     "name": "stdout",
     "output_type": "stream",
     "text": [
      "['L&G PMC 2045 - 2050 Target Date Fund 3'\n",
      " 'L&G PMC World (Ex-UK) Equity Index 3']\n"
     ]
    }
   ],
   "source": [
    "funds = df['Fund name'].unique()\n",
    "print(funds)"
   ]
  },
  {
   "cell_type": "code",
   "execution_count": 37,
   "id": "402b7b41",
   "metadata": {},
   "outputs": [],
   "source": [
    "mapping_dict = {funds[i]:\"fund_\"+str(i) for i in range(len(funds))}"
   ]
  },
  {
   "cell_type": "code",
   "execution_count": 38,
   "id": "a186c620",
   "metadata": {},
   "outputs": [
    {
     "data": {
      "text/plain": [
       "{'L&G PMC 2045 - 2050 Target Date Fund 3': 'fund_0',\n",
       " 'L&G PMC World (Ex-UK) Equity Index 3': 'fund_1'}"
      ]
     },
     "execution_count": 38,
     "metadata": {},
     "output_type": "execute_result"
    }
   ],
   "source": [
    "mapping_dict"
   ]
  },
  {
   "cell_type": "code",
   "execution_count": 42,
   "id": "4ca3baf5",
   "metadata": {},
   "outputs": [
    {
     "name": "stdout",
     "output_type": "stream",
     "text": [
      "{'L&G PMC 2045 - 2050 Target Date Fund 3': 2164.626, 'L&G PMC World (Ex-UK) Equity Index 3': 5187.65}\n"
     ]
    }
   ],
   "source": [
    "with open(current_values_file) as f:\n",
    "    current_values = {str(k):float(v) for line in f for (k,v) in [line.strip().split(':')]}\n",
    "print(current_values)"
   ]
  },
  {
   "cell_type": "code",
   "execution_count": 43,
   "id": "342e96cd",
   "metadata": {
    "scrolled": true
   },
   "outputs": [],
   "source": [
    "#Now change fund names using the mapping_dict\n",
    "df = df.replace(mapping_dict)"
   ]
  },
  {
   "cell_type": "code",
   "execution_count": 57,
   "id": "02b43280",
   "metadata": {},
   "outputs": [],
   "source": [
    "current_values = {mapping_dict[k]:v for (k,v) in current_values.items()}"
   ]
  },
  {
   "cell_type": "code",
   "execution_count": null,
   "id": "831f1890",
   "metadata": {},
   "outputs": [],
   "source": [
    "#Find number of units for each fund at the beginning of the year, and also at the end of the year. \n",
    "#Find increase or decrease in price for each fund, end of year compared with beginning of year. "
   ]
  },
  {
   "cell_type": "code",
   "execution_count": 75,
   "id": "890dea6a",
   "metadata": {},
   "outputs": [],
   "source": [
    "max_date = max(df[df.Date<=year_end]['Date'])\n",
    "min_date = min(df[df.Date>=year_begin]['Date'])"
   ]
  },
  {
   "cell_type": "code",
   "execution_count": 62,
   "id": "e07f9ba0",
   "metadata": {},
   "outputs": [],
   "source": [
    "fund0 = df[df['Fund name'] == 'fund_0'].reset_index(drop=True)\n",
    "fund1 = df[df['Fund name'] == 'fund_1'].reset_index(drop=True)"
   ]
  },
  {
   "cell_type": "code",
   "execution_count": 76,
   "id": "ba472616",
   "metadata": {},
   "outputs": [],
   "source": [
    "fund0_future = fund0[fund0.Date>max_date]\n",
    "fund0_units_eoy = current_values['fund_0']-sum(fund0_future['Units bought']) + sum(fund0_future['Units sold'])\n",
    "\n",
    "fund1_future = fund1[fund1.Date>max_date]\n",
    "fund1_units_eoy = current_values['fund_1']-sum(fund1_future['Units bought']) + sum(fund1_future['Units sold'])"
   ]
  },
  {
   "cell_type": "code",
   "execution_count": 77,
   "id": "c0cc3080",
   "metadata": {},
   "outputs": [
    {
     "data": {
      "text/plain": [
       "5004.846"
      ]
     },
     "execution_count": 77,
     "metadata": {},
     "output_type": "execute_result"
    }
   ],
   "source": [
    "fund1_units_eoy"
   ]
  },
  {
   "cell_type": "code",
   "execution_count": 78,
   "id": "82b8697a",
   "metadata": {},
   "outputs": [],
   "source": [
    "fund0_year = fund0[((fund0.Date>=min_date)&(fund0.Date<=max_date))]\n",
    "fund1_year = fund1[((fund1.Date>=min_date)&(fund1.Date<=max_date))]"
   ]
  },
  {
   "cell_type": "code",
   "execution_count": 92,
   "id": "0b811a60",
   "metadata": {},
   "outputs": [],
   "source": [
    "fund0_units_boy = fund0_units_eoy - (sum(fund0_year['Units bought']) - sum(fund0_year['Units sold']))\n",
    "fund1_units_boy = fund1_units_eoy - (sum(fund1_year['Units bought']) - sum(fund1_year['Units sold']))"
   ]
  },
  {
   "cell_type": "code",
   "execution_count": 93,
   "id": "90165a71",
   "metadata": {},
   "outputs": [
    {
     "data": {
      "text/plain": [
       "3607.6919999999996"
      ]
     },
     "execution_count": 93,
     "metadata": {},
     "output_type": "execute_result"
    }
   ],
   "source": [
    "fund1_units_boy"
   ]
  },
  {
   "cell_type": "code",
   "execution_count": 94,
   "id": "b6b4dddb",
   "metadata": {},
   "outputs": [],
   "source": [
    "fund0_unit_increase = fund0_units_eoy - fund0_units_boy\n",
    "fund1_unit_increase = fund1_units_eoy - fund1_units_boy"
   ]
  },
  {
   "cell_type": "code",
   "execution_count": 114,
   "id": "97dd3a63",
   "metadata": {},
   "outputs": [],
   "source": [
    "initial_price_fund0 = fund0_year[fund0_year.Date==min_date][:1]['Price per unit (p)'].values[0]\n",
    "final_price_fund0 = fund0_year[fund0_year.Date==max_date][:1]['Price per unit (p)'].values[0]\n",
    "\n",
    "initial_price_fund1 = fund1_year[fund1_year.Date==min_date][:1]['Price per unit (p)'].values[0]\n",
    "final_price_fund1 = fund1_year[fund1_year.Date==max_date][:1]['Price per unit (p)'].values[0]"
   ]
  },
  {
   "cell_type": "code",
   "execution_count": 135,
   "id": "75a81f64",
   "metadata": {},
   "outputs": [],
   "source": [
    "fund0_base_increase = fund0_units_boy*(final_price_fund0-initial_price_fund0)/100.0  #convert to pounds"
   ]
  },
  {
   "cell_type": "code",
   "execution_count": 136,
   "id": "93667bb2",
   "metadata": {},
   "outputs": [],
   "source": [
    "fund1_base_increase = fund1_units_boy*(final_price_fund1-initial_price_fund1)/100.0  #convert to pounds"
   ]
  },
  {
   "cell_type": "code",
   "execution_count": 126,
   "id": "28b46f68",
   "metadata": {},
   "outputs": [
    {
     "name": "stderr",
     "output_type": "stream",
     "text": [
      "/tmp/ipykernel_68839/1551814744.py:1: SettingWithCopyWarning: \n",
      "A value is trying to be set on a copy of a slice from a DataFrame.\n",
      "Try using .loc[row_indexer,col_indexer] = value instead\n",
      "\n",
      "See the caveats in the documentation: https://pandas.pydata.org/pandas-docs/stable/user_guide/indexing.html#returning-a-view-versus-a-copy\n",
      "  fund1_year['final_year_price'] = final_price_fund1/100\n",
      "/tmp/ipykernel_68839/1551814744.py:2: SettingWithCopyWarning: \n",
      "A value is trying to be set on a copy of a slice from a DataFrame.\n",
      "Try using .loc[row_indexer,col_indexer] = value instead\n",
      "\n",
      "See the caveats in the documentation: https://pandas.pydata.org/pandas-docs/stable/user_guide/indexing.html#returning-a-view-versus-a-copy\n",
      "  fund0_year['final_year_price'] = final_price_fund0/100\n",
      "/tmp/ipykernel_68839/1551814744.py:3: SettingWithCopyWarning: \n",
      "A value is trying to be set on a copy of a slice from a DataFrame.\n",
      "Try using .loc[row_indexer,col_indexer] = value instead\n",
      "\n",
      "See the caveats in the documentation: https://pandas.pydata.org/pandas-docs/stable/user_guide/indexing.html#returning-a-view-versus-a-copy\n",
      "  fund0_year['unit_price_pounds'] = fund0_year['Price per unit (p)']/100.0\n",
      "/tmp/ipykernel_68839/1551814744.py:4: SettingWithCopyWarning: \n",
      "A value is trying to be set on a copy of a slice from a DataFrame.\n",
      "Try using .loc[row_indexer,col_indexer] = value instead\n",
      "\n",
      "See the caveats in the documentation: https://pandas.pydata.org/pandas-docs/stable/user_guide/indexing.html#returning-a-view-versus-a-copy\n",
      "  fund1_year['unit_price_pounds'] = fund1_year['Price per unit (p)']/100.0\n",
      "/tmp/ipykernel_68839/1551814744.py:6: SettingWithCopyWarning: \n",
      "A value is trying to be set on a copy of a slice from a DataFrame.\n",
      "Try using .loc[row_indexer,col_indexer] = value instead\n",
      "\n",
      "See the caveats in the documentation: https://pandas.pydata.org/pandas-docs/stable/user_guide/indexing.html#returning-a-view-versus-a-copy\n",
      "  fund0_year['increase_eoy'] = fund0_year['Units bought']*(fund0_year['final_year_price']\n",
      "/tmp/ipykernel_68839/1551814744.py:8: SettingWithCopyWarning: \n",
      "A value is trying to be set on a copy of a slice from a DataFrame.\n",
      "Try using .loc[row_indexer,col_indexer] = value instead\n",
      "\n",
      "See the caveats in the documentation: https://pandas.pydata.org/pandas-docs/stable/user_guide/indexing.html#returning-a-view-versus-a-copy\n",
      "  fund1_year['increase_eoy'] = fund1_year['Units bought']*(fund1_year['final_year_price']\n"
     ]
    }
   ],
   "source": [
    "fund1_year['final_year_price'] = final_price_fund1/100\n",
    "fund0_year['final_year_price'] = final_price_fund0/100\n",
    "fund0_year['unit_price_pounds'] = fund0_year['Price per unit (p)']/100.0\n",
    "fund1_year['unit_price_pounds'] = fund1_year['Price per unit (p)']/100.0\n",
    "\n",
    "fund0_year['increase_eoy'] = fund0_year['Units bought']*(fund0_year['final_year_price']\n",
    "                                                         -fund0_year['unit_price_pounds'])\n",
    "fund1_year['increase_eoy'] = fund1_year['Units bought']*(fund1_year['final_year_price']\n",
    "                                                         -fund1_year['unit_price_pounds'])\n",
    "\n",
    "#Note: this is not including the sold values, so this is slightly incorrect. "
   ]
  },
  {
   "cell_type": "code",
   "execution_count": 127,
   "id": "9c9bc0cd",
   "metadata": {},
   "outputs": [],
   "source": [
    "fund0_bought_increase = sum(fund0_year['increase_eoy'])\n",
    "fund1_bought_increase = sum(fund1_year['increase_eoy'])                    "
   ]
  },
  {
   "cell_type": "code",
   "execution_count": 138,
   "id": "4fa2cf67",
   "metadata": {},
   "outputs": [],
   "source": [
    "total_fund0_increase = fund0_bought_increase+fund0_base_increase\n",
    "total_fund1_increase = fund1_bought_increase+fund1_base_increase"
   ]
  },
  {
   "cell_type": "code",
   "execution_count": 141,
   "id": "7073c6fa",
   "metadata": {},
   "outputs": [
    {
     "data": {
      "text/plain": [
       "6860.192233399999"
      ]
     },
     "execution_count": 141,
     "metadata": {},
     "output_type": "execute_result"
    }
   ],
   "source": [
    "total_fund0_increase+total_fund1_increase"
   ]
  },
  {
   "cell_type": "code",
   "execution_count": 150,
   "id": "d5690a3b",
   "metadata": {},
   "outputs": [
    {
     "data": {
      "text/plain": [
       "17155.0137805"
      ]
     },
     "execution_count": 150,
     "metadata": {},
     "output_type": "execute_result"
    }
   ],
   "source": [
    "sum(fund0_year['Units bought']*fund0_year['unit_price_pounds']) + sum(fund1_year['Units bought']*fund1_year['unit_price_pounds'])\n"
   ]
  },
  {
   "cell_type": "code",
   "execution_count": 151,
   "id": "f320e5fd",
   "metadata": {},
   "outputs": [
    {
     "data": {
      "text/plain": [
       "9436.038514442916"
      ]
     },
     "execution_count": 151,
     "metadata": {},
     "output_type": "execute_result"
    }
   ],
   "source": [
    "6860/0.727"
   ]
  },
  {
   "cell_type": "code",
   "execution_count": 152,
   "id": "7301e037",
   "metadata": {},
   "outputs": [
    {
     "data": {
      "text/plain": [
       "23596.973865199452"
      ]
     },
     "execution_count": 152,
     "metadata": {},
     "output_type": "execute_result"
    }
   ],
   "source": [
    "17155/0.727"
   ]
  },
  {
   "cell_type": "code",
   "execution_count": null,
   "id": "06fa4133",
   "metadata": {},
   "outputs": [],
   "source": [
    "# The above value matches the total sum of contributions for 2021"
   ]
  }
 ],
 "metadata": {
  "kernelspec": {
   "display_name": "Python 3 (ipykernel)",
   "language": "python",
   "name": "python3"
  },
  "language_info": {
   "codemirror_mode": {
    "name": "ipython",
    "version": 3
   },
   "file_extension": ".py",
   "mimetype": "text/x-python",
   "name": "python",
   "nbconvert_exporter": "python",
   "pygments_lexer": "ipython3",
   "version": "3.8.10"
  }
 },
 "nbformat": 4,
 "nbformat_minor": 5
}
